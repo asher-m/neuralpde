{
 "cells": [
  {
   "cell_type": "code",
   "execution_count": null,
   "id": "e7ae616a",
   "metadata": {},
   "outputs": [],
   "source": [
    "import datetime\n",
    "import glob\n",
    "import matplotlib.pyplot as plt\n",
    "import numpy as np\n",
    "import warnings\n",
    "\n",
    "import neuralpde\n",
    "\n",
    "\n",
    "\n",
    "warnings.warn('Whatever this is :(')\n",
    "neuralpde.network.DEVICE = 'cpu'\n",
    "\n",
    "\n",
    "\n",
    "subset_xy = np.s_[174:235, 64:110]\n",
    "\"\"\"\n",
    "Subset of (x, y) grid to use by index, ordered as (+/- longitude, +/- latitude)\n",
    "\n",
    "# WARNING\n",
    "Ordering here is not what you expect!  Be careful to check!\n",
    "\"\"\"\n",
    "\n",
    "q = 10\n",
    "maps = 7\n"
   ]
  },
  {
   "cell_type": "markdown",
   "id": "aa9aaf01",
   "metadata": {},
   "source": [
    "Alright, let's load some data and do some preliminary checks:"
   ]
  },
  {
   "cell_type": "code",
   "execution_count": null,
   "id": "76d09301",
   "metadata": {},
   "outputs": [],
   "source": [
    "d = neuralpde.nc.SeaIceV4(sorted(glob.glob('data/V4/*197*.nc')))\n",
    "\n",
    "day = np.searchsorted(d.date, datetime.date(1979, 8, 15))\n",
    "indices = np.arange(day - maps, day + maps + 1)\n",
    "\n",
    "neuralpde.nc.check_boundaries(indices, d)\n"
   ]
  },
  {
   "cell_type": "markdown",
   "id": "7d5a23ca",
   "metadata": {},
   "source": [
    "Do some preliminary prep on the data:"
   ]
  },
  {
   "cell_type": "code",
   "execution_count": null,
   "id": "977ec6aa",
   "metadata": {},
   "outputs": [],
   "source": [
    "u = d.seaice_conc[indices, *subset_xy]\n",
    "u[np.isnan(u)] = 0.  # mask out NaN\n",
    "\n",
    "(scalex, scaley), (x, y) = neuralpde.network.normalize_xy(d.meters_x, d.meters_y)\n",
    "x, y = np.meshgrid(x, y)  # this ordering is annoying but necessary\n",
    "x, y = x[subset_xy], y[subset_xy]\n",
    "\n",
    "mask_coast = (d.flag_coast)[day, *subset_xy]\n",
    "mask_other = (d.flag_land | d.flag_hole | d.flag_lake | d.flag_missing)[day, *subset_xy]\n",
    "mask_any = mask_coast | mask_other\n"
   ]
  },
  {
   "cell_type": "markdown",
   "id": "c6c8cb08",
   "metadata": {},
   "source": [
    "Now we define the loss hyperparameters with respect to which we will train:"
   ]
  },
  {
   "cell_type": "code",
   "execution_count": null,
   "id": "a33d56d1",
   "metadata": {},
   "outputs": [],
   "source": [
    "# loss hyperparameters (i.e., relative weighting of terms in loss)\n",
    "weights = np.array(\n",
    "    [\n",
    "        10.,  # differential loss (t_{n})\n",
    "        10.,  # differential loss (t_{n+1})\n",
    "        1.,  # boundary loss, no slip + no pen\n",
    "        1.,  # kappa regularization\n",
    "        1.,  # v regularization\n",
    "        5.,  # f minimization\n",
    "    ]\n",
    ")\n",
    "weights = weights / np.sqrt(np.sum(weights**2))\n"
   ]
  },
  {
   "cell_type": "markdown",
   "id": "34d47600",
   "metadata": {},
   "source": [
    "Now do the training.  :)"
   ]
  },
  {
   "cell_type": "code",
   "execution_count": null,
   "id": "148fdf24",
   "metadata": {},
   "outputs": [],
   "source": [
    "net = neuralpde.network.Network(q = q, shape = u.shape, kernel = 5).to(neuralpde.network.DEVICE, neuralpde.network.DTYPE)\n",
    "losses = net.fit(x, y, u, weights, mask_coast, mask_other, epochs=1000, lr=1e-3)\n"
   ]
  },
  {
   "cell_type": "code",
   "execution_count": null,
   "id": "075ea4a0",
   "metadata": {},
   "outputs": [],
   "source": [
    "plt.plot(losses)\n",
    "plt.yscale('log')\n"
   ]
  },
  {
   "cell_type": "code",
   "execution_count": null,
   "id": "2a3471ba",
   "metadata": {},
   "outputs": [],
   "source": [
    "outs = net.predict(x, y, u)\n",
    "kappa = outs[0]\n",
    "v1 = outs[1]\n",
    "v2 = outs[2]\n",
    "f = outs[3]\n",
    "\n",
    "\n",
    "\n",
    "cmap = plt.get_cmap('Blues_r')\n",
    "cmap.set_bad(color='darkgreen', alpha=0.6)\n",
    "cmap.set_over(color='violet', alpha=0.4)\n",
    "cmap.set_under(color='cyan', alpha=0.4)\n",
    "\n",
    "mask_any_plotting = np.ones_like(mask_any, dtype=float)\n",
    "mask_any_plotting[mask_any] = np.nan\n",
    "\n",
    "\n",
    "\n",
    "plt.pcolormesh(x, y, d.seaice_conc[day, *subset_xy], cmap=cmap, vmin=0, vmax=1, shading='nearest')\n",
    "plt.colorbar()\n",
    "plt.gca().set_aspect('equal')\n",
    "plt.show()\n",
    "\n",
    "plt.pcolormesh(x, y, (outs[4] * mask_any_plotting), cmap=cmap, vmin=0, vmax=1)\n",
    "plt.colorbar()\n",
    "plt.gca().set_aspect('equal')\n",
    "plt.show()\n",
    "\n",
    "plt.pcolormesh(x, y, (kappa * mask_any_plotting))\n",
    "plt.colorbar()\n",
    "plt.gca().set_aspect('equal')\n",
    "plt.show()\n",
    "\n",
    "plt.pcolormesh(x, y, (v1 * mask_any_plotting))\n",
    "plt.colorbar()\n",
    "plt.gca().set_aspect('equal')\n",
    "plt.show()\n",
    "\n",
    "plt.pcolormesh(x, y, (v2 * mask_any_plotting))\n",
    "plt.colorbar()\n",
    "plt.gca().set_aspect('equal')\n",
    "plt.show()\n",
    "\n",
    "plt.pcolormesh(x, y, (f * mask_any_plotting))\n",
    "plt.colorbar()\n",
    "plt.gca().set_aspect('equal')\n",
    "plt.show()\n"
   ]
  },
  {
   "cell_type": "code",
   "execution_count": null,
   "id": "39dd9ad8",
   "metadata": {},
   "outputs": [],
   "source": []
  }
 ],
 "metadata": {
  "kernelspec": {
   "display_name": "neuralpde",
   "language": "python",
   "name": "python3"
  },
  "language_info": {
   "codemirror_mode": {
    "name": "ipython",
    "version": 3
   },
   "file_extension": ".py",
   "mimetype": "text/x-python",
   "name": "python",
   "nbconvert_exporter": "python",
   "pygments_lexer": "ipython3",
   "version": "3.11.11"
  }
 },
 "nbformat": 4,
 "nbformat_minor": 5
}
